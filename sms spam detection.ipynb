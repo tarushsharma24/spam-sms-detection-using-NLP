{
 "cells": [
  {
   "cell_type": "code",
   "execution_count": 33,
   "id": "7c8b46e4-bfb8-4582-8f69-c74a33d4150a",
   "metadata": {},
   "outputs": [
    {
     "name": "stdout",
     "output_type": "stream",
     "text": [
      "0.9691091954022989\n"
     ]
    }
   ],
   "source": [
    "import pandas as pd\n",
    "from sklearn.feature_extraction.text import CountVectorizer, TfidfTransformer, TfidfVectorizer\n",
    "import nltk\n",
    "from string import punctuation\n",
    "from nltk.corpus import stopwords, wordnet\n",
    "from nltk.stem import PorterStemmer\n",
    "from sklearn.model_selection import train_test_split\n",
    "from sklearn.naive_bayes import BernoulliNB\n",
    "\n",
    "\n",
    "\n",
    "data = pd.read_csv('SMSSpamCollection.tsv',sep='\\t',names = ['type','msg'])\n",
    "stemmer = PorterStemmer()\n",
    "ab = [\"i've\", \"i'll\", \"we'll\", \"'ve\"]\n",
    "\n",
    "\n",
    "def text_process(t):\n",
    "    all_words = []\n",
    "    t = t.replace('.','. ').replace('!','! ').replace('?','? ')\n",
    "    for sent in nltk.sent_tokenize(t.lower()):\n",
    "        words = nltk.word_tokenize(sent)        \n",
    "        words = [word for word in words if (word not in stopwords.words('english')) and (word not in ab)]        \n",
    "        words = [stemmer.stem(word) for word in words]\n",
    "        words = [word for word in words if word not in punctuation]\n",
    "        words = [word for word in words if not word.isnumeric()]\n",
    "        all_words += words    \n",
    "    all_words = ''.join([ch for ch in ' '.join(all_words) if (ch not in punctuation) and (not ch.isnumeric())])    \n",
    "    return all_words\n",
    "\n",
    "\n",
    "tfidfV = TfidfVectorizer()\n",
    "tf_idf = tfidfV.fit_transform(data['msg'].apply(text_process))\n",
    "tf_df = pd.DataFrame(tf_idf.toarray(),columns = tfidfV.get_feature_names())\n",
    "xtrain, xtest, ytrain, ytest = train_test_split(tf_df, data['type'], test_size=0.25, random_state=101)\n",
    "model_bnb = BernoulliNB().fit(xtrain,ytrain)\n",
    "print(model_bnb.score(xtest,ytest))\n"
   ]
  },
  {
   "cell_type": "code",
   "execution_count": null,
   "id": "00dd5766-ce63-4af7-9e1d-95fa910de9a8",
   "metadata": {},
   "outputs": [],
   "source": []
  }
 ],
 "metadata": {
  "kernelspec": {
   "display_name": "Python 3",
   "language": "python",
   "name": "python3"
  },
  "language_info": {
   "codemirror_mode": {
    "name": "ipython",
    "version": 3
   },
   "file_extension": ".py",
   "mimetype": "text/x-python",
   "name": "python",
   "nbconvert_exporter": "python",
   "pygments_lexer": "ipython3",
   "version": "3.8.8"
  }
 },
 "nbformat": 4,
 "nbformat_minor": 5
}
